{
 "cells": [
  {
   "cell_type": "code",
   "execution_count": 1,
   "id": "3a4ae730",
   "metadata": {},
   "outputs": [],
   "source": [
    "space_number = 1234.5"
   ]
  },
  {
   "cell_type": "code",
   "execution_count": 2,
   "id": "dbab1773",
   "metadata": {},
   "outputs": [
    {
     "data": {
      "text/plain": [
       "float"
      ]
     },
     "execution_count": 2,
     "metadata": {},
     "output_type": "execute_result"
    }
   ],
   "source": [
    "type(space_number)"
   ]
  },
  {
   "cell_type": "code",
   "execution_count": 3,
   "id": "8d52cabc",
   "metadata": {},
   "outputs": [],
   "source": [
    "names = ['neil armstrong','buzz aldrin','sally ride','yuri gagrin','elon musk']"
   ]
  },
  {
   "cell_type": "code",
   "execution_count": 4,
   "id": "e0025d13",
   "metadata": {},
   "outputs": [
    {
     "data": {
      "text/plain": [
       "['neil armstrong', 'buzz aldrin', 'sally ride', 'yuri gagrin', 'elon musk']"
      ]
     },
     "execution_count": 4,
     "metadata": {},
     "output_type": "execute_result"
    }
   ],
   "source": [
    "names"
   ]
  },
  {
   "cell_type": "code",
   "execution_count": 5,
   "id": "de827cba",
   "metadata": {},
   "outputs": [
    {
     "data": {
      "text/plain": [
       "'sally ride'"
      ]
     },
     "execution_count": 5,
     "metadata": {},
     "output_type": "execute_result"
    }
   ],
   "source": [
    "names[2]"
   ]
  },
  {
   "cell_type": "code",
   "execution_count": 7,
   "id": "7194fae5",
   "metadata": {},
   "outputs": [
    {
     "data": {
      "text/plain": [
       "['buzz aldrin']"
      ]
     },
     "execution_count": 7,
     "metadata": {},
     "output_type": "execute_result"
    }
   ],
   "source": [
    "names[1:2]"
   ]
  },
  {
   "cell_type": "code",
   "execution_count": 13,
   "id": "303647b4",
   "metadata": {},
   "outputs": [
    {
     "data": {
      "text/plain": [
       "['sally ride']"
      ]
     },
     "execution_count": 13,
     "metadata": {},
     "output_type": "execute_result"
    }
   ],
   "source": [
    "names[2::4]"
   ]
  },
  {
   "cell_type": "code",
   "execution_count": 14,
   "id": "2118ee6d",
   "metadata": {},
   "outputs": [
    {
     "data": {
      "text/plain": [
       "'elon musk'"
      ]
     },
     "execution_count": 14,
     "metadata": {},
     "output_type": "execute_result"
    }
   ],
   "source": [
    "names[-1]"
   ]
  },
  {
   "cell_type": "code",
   "execution_count": 16,
   "id": "8e5df275",
   "metadata": {},
   "outputs": [],
   "source": [
    "names[-1] = 'yoyo'"
   ]
  },
  {
   "cell_type": "code",
   "execution_count": 17,
   "id": "23a75fed",
   "metadata": {},
   "outputs": [
    {
     "data": {
      "text/plain": [
       "['neil armstrong', 'buzz aldrin', 'sally ride', 'yuri gagrin', 'yoyo']"
      ]
     },
     "execution_count": 17,
     "metadata": {},
     "output_type": "execute_result"
    }
   ],
   "source": [
    "names"
   ]
  },
  {
   "cell_type": "code",
   "execution_count": 18,
   "id": "07be08bc",
   "metadata": {},
   "outputs": [],
   "source": [
    "names.append('elon musk')"
   ]
  },
  {
   "cell_type": "code",
   "execution_count": 19,
   "id": "5499479c",
   "metadata": {},
   "outputs": [
    {
     "data": {
      "text/plain": [
       "['neil armstrong',\n",
       " 'buzz aldrin',\n",
       " 'sally ride',\n",
       " 'yuri gagrin',\n",
       " 'yoyo',\n",
       " 'elon musk']"
      ]
     },
     "execution_count": 19,
     "metadata": {},
     "output_type": "execute_result"
    }
   ],
   "source": [
    "names"
   ]
  },
  {
   "cell_type": "code",
   "execution_count": 20,
   "id": "ed2af256",
   "metadata": {},
   "outputs": [
    {
     "data": {
      "text/plain": [
       "['buzz aldrin', 'elon musk']"
      ]
     },
     "execution_count": 20,
     "metadata": {},
     "output_type": "execute_result"
    }
   ],
   "source": [
    "names[1::4]"
   ]
  },
  {
   "cell_type": "code",
   "execution_count": 21,
   "id": "b4f941fd",
   "metadata": {},
   "outputs": [],
   "source": [
    "names.insert(0,'rihard branson')"
   ]
  },
  {
   "cell_type": "code",
   "execution_count": 22,
   "id": "5b8ae7ff",
   "metadata": {},
   "outputs": [
    {
     "data": {
      "text/plain": [
       "['rihard branson',\n",
       " 'neil armstrong',\n",
       " 'buzz aldrin',\n",
       " 'sally ride',\n",
       " 'yuri gagrin',\n",
       " 'yoyo',\n",
       " 'elon musk']"
      ]
     },
     "execution_count": 22,
     "metadata": {},
     "output_type": "execute_result"
    }
   ],
   "source": [
    "names"
   ]
  },
  {
   "cell_type": "code",
   "execution_count": 23,
   "id": "93ca892a",
   "metadata": {},
   "outputs": [],
   "source": [
    "astronaut ={\n",
    "    \"name\":\"elon musk\",\n",
    "    \"suit_size\":\"large\",\n",
    "    \"allergies\":\"peanuts\"\n",
    "}"
   ]
  },
  {
   "cell_type": "code",
   "execution_count": 24,
   "id": "0a288096",
   "metadata": {},
   "outputs": [
    {
     "data": {
      "text/plain": [
       "{'name': 'elon musk', 'suit_size': 'large', 'allergies': 'peanuts'}"
      ]
     },
     "execution_count": 24,
     "metadata": {},
     "output_type": "execute_result"
    }
   ],
   "source": [
    "astronaut"
   ]
  },
  {
   "cell_type": "code",
   "execution_count": 25,
   "id": "ce25bbff",
   "metadata": {},
   "outputs": [
    {
     "data": {
      "text/plain": [
       "'large'"
      ]
     },
     "execution_count": 25,
     "metadata": {},
     "output_type": "execute_result"
    }
   ],
   "source": [
    "astronaut['suit_size']"
   ]
  },
  {
   "cell_type": "code",
   "execution_count": 27,
   "id": "64ea83f2",
   "metadata": {},
   "outputs": [
    {
     "data": {
      "text/plain": [
       "dict_keys(['name', 'suit_size', 'allergies'])"
      ]
     },
     "execution_count": 27,
     "metadata": {},
     "output_type": "execute_result"
    }
   ],
   "source": [
    "astronaut.keys()"
   ]
  },
  {
   "cell_type": "code",
   "execution_count": 28,
   "id": "8f89a8ce",
   "metadata": {},
   "outputs": [],
   "source": [
    "astronaut['space ship'] = 'Galactic'"
   ]
  },
  {
   "cell_type": "code",
   "execution_count": 29,
   "id": "78b4cf62",
   "metadata": {},
   "outputs": [
    {
     "data": {
      "text/plain": [
       "{'name': 'elon musk',\n",
       " 'suit_size': 'large',\n",
       " 'allergies': 'peanuts',\n",
       " 'space ship': 'Galactic'}"
      ]
     },
     "execution_count": 29,
     "metadata": {},
     "output_type": "execute_result"
    }
   ],
   "source": [
    "astronaut"
   ]
  },
  {
   "cell_type": "code",
   "execution_count": 30,
   "id": "f1f76015",
   "metadata": {},
   "outputs": [
    {
     "name": "stdout",
     "output_type": "stream",
     "text": [
      "number is greater than equal to 5\n"
     ]
    }
   ],
   "source": [
    "test_number = 10\n",
    "if test_number >= 5:\n",
    "    print('number is greater than equal to 5')"
   ]
  },
  {
   "cell_type": "code",
   "execution_count": null,
   "id": "9afce99a",
   "metadata": {},
   "outputs": [],
   "source": []
  }
 ],
 "metadata": {
  "kernelspec": {
   "display_name": "Python 3 (ipykernel)",
   "language": "python",
   "name": "python3"
  },
  "language_info": {
   "codemirror_mode": {
    "name": "ipython",
    "version": 3
   },
   "file_extension": ".py",
   "mimetype": "text/x-python",
   "name": "python",
   "nbconvert_exporter": "python",
   "pygments_lexer": "ipython3",
   "version": "3.9.7"
  }
 },
 "nbformat": 4,
 "nbformat_minor": 5
}
