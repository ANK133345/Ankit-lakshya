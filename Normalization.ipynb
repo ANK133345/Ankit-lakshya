{
 "cells": [
  {
   "cell_type": "code",
   "execution_count": 1,
   "id": "399ab17e",
   "metadata": {},
   "outputs": [],
   "source": [
    "import numpy as np # linear algebra\n",
    "import pandas as pd # data processing\n",
    "import matplotlib.pyplot as plt\n",
    "import seaborn as sns"
   ]
  },
  {
   "cell_type": "code",
   "execution_count": 2,
   "id": "5277ce94",
   "metadata": {},
   "outputs": [],
   "source": [
    "df = pd.read_csv(r'C:\\Users\\user\\Desktop\\100-days-of-machine-learning-main\\day25-normalization\\wine_data.csv',header=None,usecols=[0,1,2])\n",
    "df.columns=['Class label', 'Alcohol', 'Malic acid']"
   ]
  },
  {
   "cell_type": "code",
   "execution_count": 5,
   "id": "8578a03b",
   "metadata": {},
   "outputs": [
    {
     "data": {
      "text/html": [
       "<div>\n",
       "<style scoped>\n",
       "    .dataframe tbody tr th:only-of-type {\n",
       "        vertical-align: middle;\n",
       "    }\n",
       "\n",
       "    .dataframe tbody tr th {\n",
       "        vertical-align: top;\n",
       "    }\n",
       "\n",
       "    .dataframe thead th {\n",
       "        text-align: right;\n",
       "    }\n",
       "</style>\n",
       "<table border=\"1\" class=\"dataframe\">\n",
       "  <thead>\n",
       "    <tr style=\"text-align: right;\">\n",
       "      <th></th>\n",
       "      <th>Class label</th>\n",
       "      <th>Alcohol</th>\n",
       "      <th>Malic acid</th>\n",
       "    </tr>\n",
       "  </thead>\n",
       "  <tbody>\n",
       "    <tr>\n",
       "      <th>0</th>\n",
       "      <td>1</td>\n",
       "      <td>14.23</td>\n",
       "      <td>1.71</td>\n",
       "    </tr>\n",
       "    <tr>\n",
       "      <th>1</th>\n",
       "      <td>1</td>\n",
       "      <td>13.20</td>\n",
       "      <td>1.78</td>\n",
       "    </tr>\n",
       "    <tr>\n",
       "      <th>2</th>\n",
       "      <td>1</td>\n",
       "      <td>13.16</td>\n",
       "      <td>2.36</td>\n",
       "    </tr>\n",
       "    <tr>\n",
       "      <th>3</th>\n",
       "      <td>1</td>\n",
       "      <td>14.37</td>\n",
       "      <td>1.95</td>\n",
       "    </tr>\n",
       "    <tr>\n",
       "      <th>4</th>\n",
       "      <td>1</td>\n",
       "      <td>13.24</td>\n",
       "      <td>2.59</td>\n",
       "    </tr>\n",
       "    <tr>\n",
       "      <th>...</th>\n",
       "      <td>...</td>\n",
       "      <td>...</td>\n",
       "      <td>...</td>\n",
       "    </tr>\n",
       "    <tr>\n",
       "      <th>173</th>\n",
       "      <td>3</td>\n",
       "      <td>13.71</td>\n",
       "      <td>5.65</td>\n",
       "    </tr>\n",
       "    <tr>\n",
       "      <th>174</th>\n",
       "      <td>3</td>\n",
       "      <td>13.40</td>\n",
       "      <td>3.91</td>\n",
       "    </tr>\n",
       "    <tr>\n",
       "      <th>175</th>\n",
       "      <td>3</td>\n",
       "      <td>13.27</td>\n",
       "      <td>4.28</td>\n",
       "    </tr>\n",
       "    <tr>\n",
       "      <th>176</th>\n",
       "      <td>3</td>\n",
       "      <td>13.17</td>\n",
       "      <td>2.59</td>\n",
       "    </tr>\n",
       "    <tr>\n",
       "      <th>177</th>\n",
       "      <td>3</td>\n",
       "      <td>14.13</td>\n",
       "      <td>4.10</td>\n",
       "    </tr>\n",
       "  </tbody>\n",
       "</table>\n",
       "<p>178 rows × 3 columns</p>\n",
       "</div>"
      ],
      "text/plain": [
       "     Class label  Alcohol  Malic acid\n",
       "0              1    14.23        1.71\n",
       "1              1    13.20        1.78\n",
       "2              1    13.16        2.36\n",
       "3              1    14.37        1.95\n",
       "4              1    13.24        2.59\n",
       "..           ...      ...         ...\n",
       "173            3    13.71        5.65\n",
       "174            3    13.40        3.91\n",
       "175            3    13.27        4.28\n",
       "176            3    13.17        2.59\n",
       "177            3    14.13        4.10\n",
       "\n",
       "[178 rows x 3 columns]"
      ]
     },
     "execution_count": 5,
     "metadata": {},
     "output_type": "execute_result"
    }
   ],
   "source": [
    "df"
   ]
  },
  {
   "cell_type": "code",
   "execution_count": 3,
   "id": "88bd5310",
   "metadata": {},
   "outputs": [
    {
     "data": {
      "text/plain": [
       "<AxesSubplot:xlabel='Malic acid', ylabel='Density'>"
      ]
     },
     "execution_count": 3,
     "metadata": {},
     "output_type": "execute_result"
    },
    {
     "data": {
      "image/png": "[encoded data removed]",
      "text/plain": [
       "<Figure size 432x288 with 1 Axes>"
      ]
     },
     "metadata": {
      "needs_background": "light"
     },
     "output_type": "display_data"
    }
   ],
   "source": [
    "sns.kdeplot(df['Malic acid'])"
   ]
  },
  {
   "cell_type": "code",
   "execution_count": 4,
   "id": "c113f6ca",
   "metadata": {},
   "outputs": [
    {
     "data": {
      "text/plain": [
       "<AxesSubplot:xlabel='Alcohol', ylabel='Density'>"
      ]
     },
     "execution_count": 4,
     "metadata": {},
     "output_type": "execute_result"
    },
    {
     "data": {
      "image/png": "[encoded data removed]",
      "text/plain": [
       "<Figure size 432x288 with 1 Axes>"
      ]
     },
     "metadata": {
      "needs_background": "light"
     },
     "output_type": "display_data"
    }
   ],
   "source": [
    "sns.kdeplot(df['Alcohol'])"
   ]
  },
  {
   "cell_type": "code",
   "execution_count": 5,
   "id": "bc0aaff7",
   "metadata": {},
   "outputs": [
    {
     "name": "stderr",
     "output_type": "stream",
     "text": [
      "C:\\Users\\user\\anaconda3\\lib\\site-packages\\seaborn\\_decorators.py:36: FutureWarning: Pass the following variables as keyword args: x, y. From version 0.12, the only valid positional argument will be `data`, and passing other arguments without an explicit keyword will result in an error or misinterpretation.\n",
      "  warnings.warn(\n"
     ]
    },
    {
     "data": {
      "text/plain": [
       "<AxesSubplot:xlabel='Alcohol', ylabel='Malic acid'>"
      ]
     },
     "execution_count": 5,
     "metadata": {},
     "output_type": "execute_result"
    },
    {
     "data": {
      "image/png": "[encoded data removed]",
      "text/plain": [
       "<Figure size 720x432 with 1 Axes>"
      ]
     },
     "metadata": {
      "needs_background": "light"
     },
     "output_type": "display_data"
    }
   ],
   "source": [
    "plt.figure(figsize = (10,6))\n",
    "color_dict={1:'orange',3:'red',2:'blue'}\n",
    "sns.scatterplot(df['Alcohol'],df['Malic acid'],hue = df['Class label'],palette = color_dict)"
   ]
  },
  {
   "cell_type": "code",
   "execution_count": 6,
   "id": "7c419cf6",
   "metadata": {},
   "outputs": [],
   "source": [
    "cols =['Alcohol','Malic acid']"
   ]
  },
  {
   "cell_type": "code",
   "execution_count": 7,
   "id": "842a6c2e",
   "metadata": {},
   "outputs": [],
   "source": [
    "df_cols = df[cols]"
   ]
  },
  {
   "cell_type": "code",
   "execution_count": 8,
   "id": "d6e01bf4",
   "metadata": {},
   "outputs": [
    {
     "data": {
      "text/html": [
       "<div>\n",
       "<style scoped>\n",
       "    .dataframe tbody tr th:only-of-type {\n",
       "        vertical-align: middle;\n",
       "    }\n",
       "\n",
       "    .dataframe tbody tr th {\n",
       "        vertical-align: top;\n",
       "    }\n",
       "\n",
       "    .dataframe thead th {\n",
       "        text-align: right;\n",
       "    }\n",
       "</style>\n",
       "<table border=\"1\" class=\"dataframe\">\n",
       "  <thead>\n",
       "    <tr style=\"text-align: right;\">\n",
       "      <th></th>\n",
       "      <th>Alcohol</th>\n",
       "      <th>Malic acid</th>\n",
       "    </tr>\n",
       "  </thead>\n",
       "  <tbody>\n",
       "    <tr>\n",
       "      <th>0</th>\n",
       "      <td>14.23</td>\n",
       "      <td>1.71</td>\n",
       "    </tr>\n",
       "    <tr>\n",
       "      <th>1</th>\n",
       "      <td>13.20</td>\n",
       "      <td>1.78</td>\n",
       "    </tr>\n",
       "    <tr>\n",
       "      <th>2</th>\n",
       "      <td>13.16</td>\n",
       "      <td>2.36</td>\n",
       "    </tr>\n",
       "    <tr>\n",
       "      <th>3</th>\n",
       "      <td>14.37</td>\n",
       "      <td>1.95</td>\n",
       "    </tr>\n",
       "    <tr>\n",
       "      <th>4</th>\n",
       "      <td>13.24</td>\n",
       "      <td>2.59</td>\n",
       "    </tr>\n",
       "    <tr>\n",
       "      <th>...</th>\n",
       "      <td>...</td>\n",
       "      <td>...</td>\n",
       "    </tr>\n",
       "    <tr>\n",
       "      <th>173</th>\n",
       "      <td>13.71</td>\n",
       "      <td>5.65</td>\n",
       "    </tr>\n",
       "    <tr>\n",
       "      <th>174</th>\n",
       "      <td>13.40</td>\n",
       "      <td>3.91</td>\n",
       "    </tr>\n",
       "    <tr>\n",
       "      <th>175</th>\n",
       "      <td>13.27</td>\n",
       "      <td>4.28</td>\n",
       "    </tr>\n",
       "    <tr>\n",
       "      <th>176</th>\n",
       "      <td>13.17</td>\n",
       "      <td>2.59</td>\n",
       "    </tr>\n",
       "    <tr>\n",
       "      <th>177</th>\n",
       "      <td>14.13</td>\n",
       "      <td>4.10</td>\n",
       "    </tr>\n",
       "  </tbody>\n",
       "</table>\n",
       "<p>178 rows × 2 columns</p>\n",
       "</div>"
      ],
      "text/plain": [
       "     Alcohol  Malic acid\n",
       "0      14.23        1.71\n",
       "1      13.20        1.78\n",
       "2      13.16        2.36\n",
       "3      14.37        1.95\n",
       "4      13.24        2.59\n",
       "..       ...         ...\n",
       "173    13.71        5.65\n",
       "174    13.40        3.91\n",
       "175    13.27        4.28\n",
       "176    13.17        2.59\n",
       "177    14.13        4.10\n",
       "\n",
       "[178 rows x 2 columns]"
      ]
     },
     "execution_count": 8,
     "metadata": {},
     "output_type": "execute_result"
    }
   ],
   "source": [
    "df_cols"
   ]
  },
  {
   "cell_type": "code",
   "execution_count": 9,
   "id": "3bd2b4f0",
   "metadata": {},
   "outputs": [],
   "source": [
    "from sklearn.preprocessing import MinMaxScaler\n",
    "scaler = MinMaxScaler()"
   ]
  },
  {
   "cell_type": "code",
   "execution_count": 10,
   "id": "2a2c9959",
   "metadata": {},
   "outputs": [
    {
     "data": {
      "text/plain": [
       "MinMaxScaler()"
      ]
     },
     "execution_count": 10,
     "metadata": {},
     "output_type": "execute_result"
    }
   ],
   "source": [
    "scaler.fit(df_cols)"
   ]
  },
  {
   "cell_type": "code",
   "execution_count": 11,
   "id": "0a061264",
   "metadata": {},
   "outputs": [],
   "source": [
    "df_cols_scaled = scaler.transform(df_cols)"
   ]
  },
  {
   "cell_type": "code",
   "execution_count": 12,
   "id": "0363eca2",
   "metadata": {},
   "outputs": [
    {
     "data": {
      "text/plain": [
       "array([[0.84210526, 0.1916996 ],\n",
       "       [0.57105263, 0.2055336 ],\n",
       "       [0.56052632, 0.3201581 ],\n",
       "       [0.87894737, 0.23913043],\n",
       "       [0.58157895, 0.36561265],\n",
       "       [0.83421053, 0.20158103],\n",
       "       [0.88421053, 0.22332016],\n",
       "       [0.79736842, 0.27865613],\n",
       "       [1.        , 0.17786561],\n",
       "       [0.74473684, 0.12055336],\n",
       "       [0.80789474, 0.28063241],\n",
       "       [0.81315789, 0.14624506],\n",
       "       [0.71578947, 0.19565217],\n",
       "       [0.97894737, 0.19565217],\n",
       "       [0.88157895, 0.22332016],\n",
       "       [0.68421053, 0.21146245],\n",
       "       [0.86052632, 0.23320158],\n",
       "       [0.73684211, 0.16403162],\n",
       "       [0.83157895, 0.16798419],\n",
       "       [0.68684211, 0.46640316],\n",
       "       [0.79736842, 0.17588933],\n",
       "       [0.5       , 0.60474308],\n",
       "       [0.70526316, 0.22134387],\n",
       "       [0.47894737, 0.16996047],\n",
       "       [0.65      , 0.21146245],\n",
       "       [0.53157895, 0.25889328],\n",
       "       [0.62105263, 0.20355731],\n",
       "       [0.59736842, 0.19367589],\n",
       "       [0.74736842, 0.22924901],\n",
       "       [0.78684211, 0.18577075],\n",
       "       [0.71052632, 0.15019763],\n",
       "       [0.67105263, 0.18181818],\n",
       "       [0.69736842, 0.21541502],\n",
       "       [0.71842105, 0.15612648],\n",
       "       [0.65263158, 0.20948617],\n",
       "       [0.64473684, 0.21146245],\n",
       "       [0.59210526, 0.17786561],\n",
       "       [0.53157895, 0.1798419 ],\n",
       "       [0.53684211, 0.15019763],\n",
       "       [0.83947368, 0.64229249],\n",
       "       [0.66578947, 0.1916996 ],\n",
       "       [0.62631579, 0.61264822],\n",
       "       [0.75      , 0.22727273],\n",
       "       [0.58157895, 0.64031621],\n",
       "       [0.53157895, 0.20355731],\n",
       "       [0.83684211, 0.65217391],\n",
       "       [0.88157895, 0.56324111],\n",
       "       [0.75526316, 0.18577075],\n",
       "       [0.80789474, 0.25296443],\n",
       "       [0.76578947, 0.19565217],\n",
       "       [0.53157895, 0.19565217],\n",
       "       [0.73684211, 0.1798419 ],\n",
       "       [0.73421053, 0.19960474],\n",
       "       [0.72105263, 0.22924901],\n",
       "       [0.71315789, 0.18379447],\n",
       "       [0.66578947, 0.19565217],\n",
       "       [0.83947368, 0.18972332],\n",
       "       [0.59473684, 0.243083  ],\n",
       "       [0.70789474, 0.13636364],\n",
       "       [0.35263158, 0.03952569],\n",
       "       [0.34210526, 0.07114625],\n",
       "       [0.42368421, 0.12252964],\n",
       "       [0.69473684, 0.10079051],\n",
       "       [0.35263158, 0.0770751 ],\n",
       "       [0.3       , 0.14031621],\n",
       "       [0.35263158, 0.09288538],\n",
       "       [0.54736842, 0.05335968],\n",
       "       [0.35263158, 0.08498024],\n",
       "       [0.60789474, 0.03952569],\n",
       "       [0.31052632, 0.08893281],\n",
       "       [0.33157895, 0.17193676],\n",
       "       [0.74473684, 0.15217391],\n",
       "       [0.64736842, 0.18181818],\n",
       "       [0.51578947, 0.18379447],\n",
       "       [0.24473684, 0.06916996],\n",
       "       [0.16578947, 0.22529644],\n",
       "       [0.52631579, 0.03162055],\n",
       "       [0.21315789, 0.42490119],\n",
       "       [0.34210526, 0.04940711],\n",
       "       [0.43947368, 0.61857708],\n",
       "       [0.25526316, 0.03557312],\n",
       "       [0.44473684, 0.21146245],\n",
       "       [0.27631579, 0.0770751 ],\n",
       "       [0.53157895, 0.61660079],\n",
       "       [0.21315789, 0.02964427],\n",
       "       [0.43157895, 0.04743083],\n",
       "       [0.29736842, 0.17193676],\n",
       "       [0.16315789, 0.18379447],\n",
       "       [0.16052632, 0.26086957],\n",
       "       [0.27631579, 0.11660079],\n",
       "       [0.27631579, 0.21541502],\n",
       "       [0.25526316, 0.15217391],\n",
       "       [0.43684211, 0.15612648],\n",
       "       [0.33157895, 0.41304348],\n",
       "       [0.15526316, 0.24703557],\n",
       "       [0.37894737, 0.1541502 ],\n",
       "       [0.20526316, 0.27272727],\n",
       "       [0.33157895, 0.13241107],\n",
       "       [0.35263158, 0.06521739],\n",
       "       [0.33157895, 0.48023715],\n",
       "       [0.27631579, 0.26482213],\n",
       "       [0.41315789, 0.11857708],\n",
       "       [0.34473684, 0.33794466],\n",
       "       [0.20789474, 0.19367589],\n",
       "       [0.38947368, 0.19565217],\n",
       "       [0.36578947, 0.35770751],\n",
       "       [0.32105263, 0.19565217],\n",
       "       [0.44473684, 0.19960474],\n",
       "       [0.31315789, 0.10869565],\n",
       "       [0.15263158, 0.12055336],\n",
       "       [0.11315789, 0.59288538],\n",
       "       [0.39210526, 0.33399209],\n",
       "       [0.19210526, 0.38339921],\n",
       "       [0.1       , 0.        ],\n",
       "       [0.27631579, 0.1284585 ],\n",
       "       [0.        , 0.15217391],\n",
       "       [0.20789474, 0.14426877],\n",
       "       [0.36578947, 0.17193676],\n",
       "       [0.45789474, 0.53162055],\n",
       "       [0.25526316, 0.53162055],\n",
       "       [0.11052632, 0.32806324],\n",
       "       [0.13947368, 0.25889328],\n",
       "       [0.36578947, 0.72924901],\n",
       "       [0.53157895, 1.        ],\n",
       "       [0.22105263, 0.7055336 ],\n",
       "       [0.27368421, 0.28063241],\n",
       "       [0.36842105, 0.15612648],\n",
       "       [0.2       , 0.27470356],\n",
       "       [0.35263158, 0.17588933],\n",
       "       [0.26578947, 0.70355731],\n",
       "       [0.48157895, 0.12055336],\n",
       "       [0.48684211, 0.44466403],\n",
       "       [0.46842105, 0.31027668],\n",
       "       [0.43947368, 0.55533597],\n",
       "       [0.38947368, 0.09881423],\n",
       "       [0.41315789, 0.33992095],\n",
       "       [0.32105263, 0.78656126],\n",
       "       [0.39473684, 0.94268775],\n",
       "       [0.64736842, 0.56324111],\n",
       "       [0.47631579, 0.43873518],\n",
       "       [0.5       , 0.40909091],\n",
       "       [0.61315789, 0.35968379],\n",
       "       [0.65526316, 0.48023715],\n",
       "       [0.68157895, 0.83201581],\n",
       "       [0.32105263, 0.62055336],\n",
       "       [0.56052632, 0.55928854],\n",
       "       [0.75      , 0.84980237],\n",
       "       [0.48421053, 0.76482213],\n",
       "       [0.60263158, 0.49407115],\n",
       "       [0.53947368, 0.62450593],\n",
       "       [0.65      , 0.47035573],\n",
       "       [0.46315789, 0.38142292],\n",
       "       [0.54736842, 0.22924901],\n",
       "       [0.57894737, 0.50592885],\n",
       "       [0.40789474, 0.10869565],\n",
       "       [0.56315789, 0.87944664],\n",
       "       [0.73947368, 0.66798419],\n",
       "       [0.37368421, 0.45256917],\n",
       "       [0.87105263, 0.18577075],\n",
       "       [0.64473684, 0.18379447],\n",
       "       [0.35      , 0.61067194],\n",
       "       [0.7       , 0.49802372],\n",
       "       [0.47894737, 0.5       ],\n",
       "       [0.50789474, 0.53557312],\n",
       "       [0.72368421, 0.39920949],\n",
       "       [0.71052632, 0.71541502],\n",
       "       [0.63684211, 0.58498024],\n",
       "       [0.47105263, 0.51976285],\n",
       "       [0.67105263, 0.36363636],\n",
       "       [0.62368421, 0.76284585],\n",
       "       [0.30789474, 0.45256917],\n",
       "       [0.45789474, 0.32608696],\n",
       "       [0.82368421, 0.34980237],\n",
       "       [0.70526316, 0.97035573],\n",
       "       [0.62368421, 0.62648221],\n",
       "       [0.58947368, 0.69960474],\n",
       "       [0.56315789, 0.36561265],\n",
       "       [0.81578947, 0.66403162]])"
      ]
     },
     "execution_count": 12,
     "metadata": {},
     "output_type": "execute_result"
    }
   ],
   "source": [
    "df_cols_scaled "
   ]
  },
  {
   "cell_type": "code",
   "execution_count": 13,
   "id": "f80264d9",
   "metadata": {},
   "outputs": [],
   "source": [
    "df_cols_scaled = pd.DataFrame(df_cols_scaled ,columns = [df_cols.columns], index = [df.index])"
   ]
  },
  {
   "cell_type": "code",
   "execution_count": 20,
   "id": "05ca8800",
   "metadata": {},
   "outputs": [
    {
     "data": {
      "text/plain": [
       "0      1\n",
       "1      1\n",
       "2      1\n",
       "3      1\n",
       "4      1\n",
       "      ..\n",
       "173    3\n",
       "174    3\n",
       "175    3\n",
       "176    3\n",
       "177    3\n",
       "Name: Class label, Length: 178, dtype: int64"
      ]
     },
     "execution_count": 20,
     "metadata": {},
     "output_type": "execute_result"
    }
   ],
   "source": [
    "df_Class = df['Class label']"
   ]
  },
  {
   "cell_type": "code",
   "execution_count": 14,
   "id": "a78b76af",
   "metadata": {},
   "outputs": [
    {
     "data": {
      "text/html": [
       "<div>\n",
       "<style scoped>\n",
       "    .dataframe tbody tr th:only-of-type {\n",
       "        vertical-align: middle;\n",
       "    }\n",
       "\n",
       "    .dataframe tbody tr th {\n",
       "        vertical-align: top;\n",
       "    }\n",
       "\n",
       "    .dataframe thead tr th {\n",
       "        text-align: left;\n",
       "    }\n",
       "</style>\n",
       "<table border=\"1\" class=\"dataframe\">\n",
       "  <thead>\n",
       "    <tr>\n",
       "      <th></th>\n",
       "      <th>Alcohol</th>\n",
       "      <th>Malic acid</th>\n",
       "    </tr>\n",
       "  </thead>\n",
       "  <tbody>\n",
       "    <tr>\n",
       "      <th>0</th>\n",
       "      <td>0.842105</td>\n",
       "      <td>0.191700</td>\n",
       "    </tr>\n",
       "    <tr>\n",
       "      <th>1</th>\n",
       "      <td>0.571053</td>\n",
       "      <td>0.205534</td>\n",
       "    </tr>\n",
       "    <tr>\n",
       "      <th>2</th>\n",
       "      <td>0.560526</td>\n",
       "      <td>0.320158</td>\n",
       "    </tr>\n",
       "    <tr>\n",
       "      <th>3</th>\n",
       "      <td>0.878947</td>\n",
       "      <td>0.239130</td>\n",
       "    </tr>\n",
       "    <tr>\n",
       "      <th>4</th>\n",
       "      <td>0.581579</td>\n",
       "      <td>0.365613</td>\n",
       "    </tr>\n",
       "    <tr>\n",
       "      <th>...</th>\n",
       "      <td>...</td>\n",
       "      <td>...</td>\n",
       "    </tr>\n",
       "    <tr>\n",
       "      <th>173</th>\n",
       "      <td>0.705263</td>\n",
       "      <td>0.970356</td>\n",
       "    </tr>\n",
       "    <tr>\n",
       "      <th>174</th>\n",
       "      <td>0.623684</td>\n",
       "      <td>0.626482</td>\n",
       "    </tr>\n",
       "    <tr>\n",
       "      <th>175</th>\n",
       "      <td>0.589474</td>\n",
       "      <td>0.699605</td>\n",
       "    </tr>\n",
       "    <tr>\n",
       "      <th>176</th>\n",
       "      <td>0.563158</td>\n",
       "      <td>0.365613</td>\n",
       "    </tr>\n",
       "    <tr>\n",
       "      <th>177</th>\n",
       "      <td>0.815789</td>\n",
       "      <td>0.664032</td>\n",
       "    </tr>\n",
       "  </tbody>\n",
       "</table>\n",
       "<p>178 rows × 2 columns</p>\n",
       "</div>"
      ],
      "text/plain": [
       "      Alcohol Malic acid\n",
       "0    0.842105   0.191700\n",
       "1    0.571053   0.205534\n",
       "2    0.560526   0.320158\n",
       "3    0.878947   0.239130\n",
       "4    0.581579   0.365613\n",
       "..        ...        ...\n",
       "173  0.705263   0.970356\n",
       "174  0.623684   0.626482\n",
       "175  0.589474   0.699605\n",
       "176  0.563158   0.365613\n",
       "177  0.815789   0.664032\n",
       "\n",
       "[178 rows x 2 columns]"
      ]
     },
     "execution_count": 14,
     "metadata": {},
     "output_type": "execute_result"
    }
   ],
   "source": [
    "df_scaled  = pd.concat([df_cols_scaled,)"
   ]
  },
  {
   "cell_type": "code",
   "execution_count": 33,
   "id": "7f802ae9",
   "metadata": {},
   "outputs": [
    {
     "data": {
      "image/png": "[encoded data removed]",
      "text/plain": [
       "<Figure size 864x360 with 2 Axes>"
      ]
     },
     "metadata": {
      "needs_background": "light"
     },
     "output_type": "display_data"
    }
   ],
   "source": [
    "fig, (ax1, ax2) = plt.subplots(ncols=2, figsize=(12, 5))\n",
    "\n",
    "ax1.scatter(df['Alcohol'],df['Malic acid'])\n",
    "ax1.set_title(\"Before Scaling\")\n",
    "ax2.scatter(df_cols_scaled['Alcohol'],df_cols_scaled['Malic acid'])\n",
    "ax2.set_title(\"After Scaling\")\n",
    "plt.show()\n"
   ]
  },
  {
   "cell_type": "code",
   "execution_count": 28,
   "id": "1b8b8592",
   "metadata": {},
   "outputs": [
    {
     "data": {
      "text/plain": [
       "((124, 2), (54, 2))"
      ]
     },
     "execution_count": 28,
     "metadata": {},
     "output_type": "execute_result"
    }
   ],
   "source": [
    "#train test split method\n",
    "\n",
    "from sklearn.model_selection import train_test_split\n",
    "X_train, X_test, y_train, y_test = train_test_split(df.drop('Class label', axis=1),\n",
    "                                                    df['Class label'],\n",
    "                                                    test_size=0.3,\n",
    "                                                    random_state=0)\n",
    "\n",
    "X_train.shape, X_test.shape"
   ]
  },
  {
   "cell_type": "code",
   "execution_count": 21,
   "id": "1b2f968c",
   "metadata": {},
   "outputs": [],
   "source": [
    "from sklearn.preprocessing import MinMaxScaler\n"
   ]
  },
  {
   "cell_type": "code",
   "execution_count": 22,
   "id": "17619e71",
   "metadata": {},
   "outputs": [],
   "source": [
    "scaler = MinMaxScaler()"
   ]
  },
  {
   "cell_type": "code",
   "execution_count": 23,
   "id": "4e2c38d5",
   "metadata": {},
   "outputs": [
    {
     "data": {
      "text/plain": [
       "MinMaxScaler()"
      ]
     },
     "execution_count": 23,
     "metadata": {},
     "output_type": "execute_result"
    }
   ],
   "source": [
    "scaler.fit(X_train)"
   ]
  },
  {
   "cell_type": "code",
   "execution_count": 24,
   "id": "be9a55b4",
   "metadata": {},
   "outputs": [],
   "source": [
    "X_train_scaled = scaler.transform(X_train)\n",
    "X_test_scaled = scaler.transform(X_test)"
   ]
  },
  {
   "cell_type": "code",
   "execution_count": 25,
   "id": "ab2e7104",
   "metadata": {},
   "outputs": [],
   "source": [
    "X_train_scaled = pd.DataFrame(X_train_scaled, columns=X_train.columns)\n",
    "X_test_scaled = pd.DataFrame(X_test_scaled, columns=X_test.columns)"
   ]
  },
  {
   "cell_type": "code",
   "execution_count": 26,
   "id": "3f25efd0",
   "metadata": {
    "scrolled": true
   },
   "outputs": [
    {
     "data": {
      "text/html": [
       "<div>\n",
       "<style scoped>\n",
       "    .dataframe tbody tr th:only-of-type {\n",
       "        vertical-align: middle;\n",
       "    }\n",
       "\n",
       "    .dataframe tbody tr th {\n",
       "        vertical-align: top;\n",
       "    }\n",
       "\n",
       "    .dataframe thead th {\n",
       "        text-align: right;\n",
       "    }\n",
       "</style>\n",
       "<table border=\"1\" class=\"dataframe\">\n",
       "  <thead>\n",
       "    <tr style=\"text-align: right;\">\n",
       "      <th></th>\n",
       "      <th>Alcohol</th>\n",
       "      <th>Malic acid</th>\n",
       "    </tr>\n",
       "  </thead>\n",
       "  <tbody>\n",
       "    <tr>\n",
       "      <th>0</th>\n",
       "      <td>0.720430</td>\n",
       "      <td>0.203782</td>\n",
       "    </tr>\n",
       "    <tr>\n",
       "      <th>1</th>\n",
       "      <td>0.319892</td>\n",
       "      <td>0.084034</td>\n",
       "    </tr>\n",
       "    <tr>\n",
       "      <th>2</th>\n",
       "      <td>0.602151</td>\n",
       "      <td>0.712185</td>\n",
       "    </tr>\n",
       "    <tr>\n",
       "      <th>3</th>\n",
       "      <td>0.572581</td>\n",
       "      <td>0.563025</td>\n",
       "    </tr>\n",
       "    <tr>\n",
       "      <th>4</th>\n",
       "      <td>0.760753</td>\n",
       "      <td>0.130252</td>\n",
       "    </tr>\n",
       "    <tr>\n",
       "      <th>...</th>\n",
       "      <td>...</td>\n",
       "      <td>...</td>\n",
       "    </tr>\n",
       "    <tr>\n",
       "      <th>119</th>\n",
       "      <td>0.212366</td>\n",
       "      <td>0.174370</td>\n",
       "    </tr>\n",
       "    <tr>\n",
       "      <th>120</th>\n",
       "      <td>0.360215</td>\n",
       "      <td>0.058824</td>\n",
       "    </tr>\n",
       "    <tr>\n",
       "      <th>121</th>\n",
       "      <td>0.373656</td>\n",
       "      <td>0.151261</td>\n",
       "    </tr>\n",
       "    <tr>\n",
       "      <th>122</th>\n",
       "      <td>0.771505</td>\n",
       "      <td>0.165966</td>\n",
       "    </tr>\n",
       "    <tr>\n",
       "      <th>123</th>\n",
       "      <td>0.841398</td>\n",
       "      <td>0.340336</td>\n",
       "    </tr>\n",
       "  </tbody>\n",
       "</table>\n",
       "<p>124 rows × 2 columns</p>\n",
       "</div>"
      ],
      "text/plain": [
       "      Alcohol  Malic acid\n",
       "0    0.720430    0.203782\n",
       "1    0.319892    0.084034\n",
       "2    0.602151    0.712185\n",
       "3    0.572581    0.563025\n",
       "4    0.760753    0.130252\n",
       "..        ...         ...\n",
       "119  0.212366    0.174370\n",
       "120  0.360215    0.058824\n",
       "121  0.373656    0.151261\n",
       "122  0.771505    0.165966\n",
       "123  0.841398    0.340336\n",
       "\n",
       "[124 rows x 2 columns]"
      ]
     },
     "execution_count": 26,
     "metadata": {},
     "output_type": "execute_result"
    }
   ],
   "source": [
    "X_train_scaled"
   ]
  },
  {
   "cell_type": "code",
   "execution_count": 34,
   "id": "7bf41c2a",
   "metadata": {},
   "outputs": [
    {
     "data": {
      "text/plain": [
       "22     1\n",
       "108    2\n",
       "175    3\n",
       "145    3\n",
       "71     2\n",
       "      ..\n",
       "103    2\n",
       "67     2\n",
       "117    2\n",
       "47     1\n",
       "172    3\n",
       "Name: Class label, Length: 124, dtype: int64"
      ]
     },
     "execution_count": 34,
     "metadata": {},
     "output_type": "execute_result"
    }
   ],
   "source": [
    "y_train"
   ]
  },
  {
   "cell_type": "code",
   "execution_count": 27,
   "id": "8ab1a53b",
   "metadata": {
    "scrolled": true
   },
   "outputs": [
    {
     "data": {
      "text/html": [
       "<div>\n",
       "<style scoped>\n",
       "    .dataframe tbody tr th:only-of-type {\n",
       "        vertical-align: middle;\n",
       "    }\n",
       "\n",
       "    .dataframe tbody tr th {\n",
       "        vertical-align: top;\n",
       "    }\n",
       "\n",
       "    .dataframe thead th {\n",
       "        text-align: right;\n",
       "    }\n",
       "</style>\n",
       "<table border=\"1\" class=\"dataframe\">\n",
       "  <thead>\n",
       "    <tr style=\"text-align: right;\">\n",
       "      <th></th>\n",
       "      <th>Alcohol</th>\n",
       "      <th>Malic acid</th>\n",
       "    </tr>\n",
       "  </thead>\n",
       "  <tbody>\n",
       "    <tr>\n",
       "      <th>0</th>\n",
       "      <td>0.728495</td>\n",
       "      <td>0.163866</td>\n",
       "    </tr>\n",
       "    <tr>\n",
       "      <th>1</th>\n",
       "      <td>0.473118</td>\n",
       "      <td>0.373950</td>\n",
       "    </tr>\n",
       "    <tr>\n",
       "      <th>2</th>\n",
       "      <td>0.360215</td>\n",
       "      <td>0.050420</td>\n",
       "    </tr>\n",
       "    <tr>\n",
       "      <th>3</th>\n",
       "      <td>0.680108</td>\n",
       "      <td>0.176471</td>\n",
       "    </tr>\n",
       "    <tr>\n",
       "      <th>4</th>\n",
       "      <td>0.543011</td>\n",
       "      <td>1.031513</td>\n",
       "    </tr>\n",
       "    <tr>\n",
       "      <th>5</th>\n",
       "      <td>0.142473</td>\n",
       "      <td>0.243697</td>\n",
       "    </tr>\n",
       "    <tr>\n",
       "      <th>6</th>\n",
       "      <td>0.814516</td>\n",
       "      <td>0.264706</td>\n",
       "    </tr>\n",
       "    <tr>\n",
       "      <th>7</th>\n",
       "      <td>0.357527</td>\n",
       "      <td>0.617647</td>\n",
       "    </tr>\n",
       "    <tr>\n",
       "      <th>8</th>\n",
       "      <td>0.327957</td>\n",
       "      <td>0.176471</td>\n",
       "    </tr>\n",
       "    <tr>\n",
       "      <th>9</th>\n",
       "      <td>0.282258</td>\n",
       "      <td>0.197479</td>\n",
       "    </tr>\n",
       "    <tr>\n",
       "      <th>10</th>\n",
       "      <td>0.626344</td>\n",
       "      <td>0.350840</td>\n",
       "    </tr>\n",
       "    <tr>\n",
       "      <th>11</th>\n",
       "      <td>0.766129</td>\n",
       "      <td>0.871849</td>\n",
       "    </tr>\n",
       "    <tr>\n",
       "      <th>12</th>\n",
       "      <td>0.852151</td>\n",
       "      <td>0.182773</td>\n",
       "    </tr>\n",
       "    <tr>\n",
       "      <th>13</th>\n",
       "      <td>0.360215</td>\n",
       "      <td>0.037815</td>\n",
       "    </tr>\n",
       "    <tr>\n",
       "      <th>14</th>\n",
       "      <td>0.685484</td>\n",
       "      <td>0.355042</td>\n",
       "    </tr>\n",
       "    <tr>\n",
       "      <th>15</th>\n",
       "      <td>0.260753</td>\n",
       "      <td>0.006303</td>\n",
       "    </tr>\n",
       "    <tr>\n",
       "      <th>16</th>\n",
       "      <td>0.733871</td>\n",
       "      <td>0.134454</td>\n",
       "    </tr>\n",
       "    <tr>\n",
       "      <th>17</th>\n",
       "      <td>0.849462</td>\n",
       "      <td>0.147059</td>\n",
       "    </tr>\n",
       "    <tr>\n",
       "      <th>18</th>\n",
       "      <td>0.432796</td>\n",
       "      <td>0.098739</td>\n",
       "    </tr>\n",
       "    <tr>\n",
       "      <th>19</th>\n",
       "      <td>0.752688</td>\n",
       "      <td>0.159664</td>\n",
       "    </tr>\n",
       "    <tr>\n",
       "      <th>20</th>\n",
       "      <td>0.559140</td>\n",
       "      <td>0.025210</td>\n",
       "    </tr>\n",
       "    <tr>\n",
       "      <th>21</th>\n",
       "      <td>0.543011</td>\n",
       "      <td>0.159664</td>\n",
       "    </tr>\n",
       "    <tr>\n",
       "      <th>22</th>\n",
       "      <td>0.594086</td>\n",
       "      <td>0.357143</td>\n",
       "    </tr>\n",
       "    <tr>\n",
       "      <th>23</th>\n",
       "      <td>0.397849</td>\n",
       "      <td>0.176471</td>\n",
       "    </tr>\n",
       "    <tr>\n",
       "      <th>24</th>\n",
       "      <td>0.349462</td>\n",
       "      <td>0.044118</td>\n",
       "    </tr>\n",
       "    <tr>\n",
       "      <th>25</th>\n",
       "      <td>0.400538</td>\n",
       "      <td>0.323529</td>\n",
       "    </tr>\n",
       "    <tr>\n",
       "      <th>26</th>\n",
       "      <td>0.376344</td>\n",
       "      <td>0.134454</td>\n",
       "    </tr>\n",
       "    <tr>\n",
       "      <th>27</th>\n",
       "      <td>0.303763</td>\n",
       "      <td>0.151261</td>\n",
       "    </tr>\n",
       "    <tr>\n",
       "      <th>28</th>\n",
       "      <td>0.196237</td>\n",
       "      <td>0.376050</td>\n",
       "    </tr>\n",
       "    <tr>\n",
       "      <th>29</th>\n",
       "      <td>0.739247</td>\n",
       "      <td>0.392857</td>\n",
       "    </tr>\n",
       "    <tr>\n",
       "      <th>30</th>\n",
       "      <td>0.634409</td>\n",
       "      <td>0.184874</td>\n",
       "    </tr>\n",
       "    <tr>\n",
       "      <th>31</th>\n",
       "      <td>0.857527</td>\n",
       "      <td>0.170168</td>\n",
       "    </tr>\n",
       "    <tr>\n",
       "      <th>32</th>\n",
       "      <td>0.271505</td>\n",
       "      <td>0.716387</td>\n",
       "    </tr>\n",
       "    <tr>\n",
       "      <th>33</th>\n",
       "      <td>0.854839</td>\n",
       "      <td>0.661765</td>\n",
       "    </tr>\n",
       "    <tr>\n",
       "      <th>34</th>\n",
       "      <td>1.021505</td>\n",
       "      <td>0.157563</td>\n",
       "    </tr>\n",
       "    <tr>\n",
       "      <th>35</th>\n",
       "      <td>0.543011</td>\n",
       "      <td>0.184874</td>\n",
       "    </tr>\n",
       "    <tr>\n",
       "      <th>36</th>\n",
       "      <td>0.715054</td>\n",
       "      <td>0.497899</td>\n",
       "    </tr>\n",
       "    <tr>\n",
       "      <th>37</th>\n",
       "      <td>0.446237</td>\n",
       "      <td>0.134454</td>\n",
       "    </tr>\n",
       "    <tr>\n",
       "      <th>38</th>\n",
       "      <td>0.158602</td>\n",
       "      <td>0.231092</td>\n",
       "    </tr>\n",
       "    <tr>\n",
       "      <th>39</th>\n",
       "      <td>0.637097</td>\n",
       "      <td>0.634454</td>\n",
       "    </tr>\n",
       "    <tr>\n",
       "      <th>40</th>\n",
       "      <td>0.663978</td>\n",
       "      <td>0.193277</td>\n",
       "    </tr>\n",
       "    <tr>\n",
       "      <th>41</th>\n",
       "      <td>0.725806</td>\n",
       "      <td>0.128151</td>\n",
       "    </tr>\n",
       "    <tr>\n",
       "      <th>42</th>\n",
       "      <td>0.338710</td>\n",
       "      <td>0.407563</td>\n",
       "    </tr>\n",
       "    <tr>\n",
       "      <th>43</th>\n",
       "      <td>0.422043</td>\n",
       "      <td>0.094538</td>\n",
       "    </tr>\n",
       "    <tr>\n",
       "      <th>44</th>\n",
       "      <td>0.102151</td>\n",
       "      <td>-0.031513</td>\n",
       "    </tr>\n",
       "    <tr>\n",
       "      <th>45</th>\n",
       "      <td>0.701613</td>\n",
       "      <td>0.464286</td>\n",
       "    </tr>\n",
       "    <tr>\n",
       "      <th>46</th>\n",
       "      <td>0.422043</td>\n",
       "      <td>0.329832</td>\n",
       "    </tr>\n",
       "    <tr>\n",
       "      <th>47</th>\n",
       "      <td>0.250000</td>\n",
       "      <td>0.042017</td>\n",
       "    </tr>\n",
       "    <tr>\n",
       "      <th>48</th>\n",
       "      <td>0.327957</td>\n",
       "      <td>0.628151</td>\n",
       "    </tr>\n",
       "    <tr>\n",
       "      <th>49</th>\n",
       "      <td>0.879032</td>\n",
       "      <td>0.216387</td>\n",
       "    </tr>\n",
       "    <tr>\n",
       "      <th>50</th>\n",
       "      <td>0.497312</td>\n",
       "      <td>0.441176</td>\n",
       "    </tr>\n",
       "    <tr>\n",
       "      <th>51</th>\n",
       "      <td>0.661290</td>\n",
       "      <td>0.567227</td>\n",
       "    </tr>\n",
       "    <tr>\n",
       "      <th>52</th>\n",
       "      <td>0.680108</td>\n",
       "      <td>0.172269</td>\n",
       "    </tr>\n",
       "    <tr>\n",
       "      <th>53</th>\n",
       "      <td>0.889785</td>\n",
       "      <td>0.165966</td>\n",
       "    </tr>\n",
       "  </tbody>\n",
       "</table>\n",
       "</div>"
      ],
      "text/plain": [
       "     Alcohol  Malic acid\n",
       "0   0.728495    0.163866\n",
       "1   0.473118    0.373950\n",
       "2   0.360215    0.050420\n",
       "3   0.680108    0.176471\n",
       "4   0.543011    1.031513\n",
       "5   0.142473    0.243697\n",
       "6   0.814516    0.264706\n",
       "7   0.357527    0.617647\n",
       "8   0.327957    0.176471\n",
       "9   0.282258    0.197479\n",
       "10  0.626344    0.350840\n",
       "11  0.766129    0.871849\n",
       "12  0.852151    0.182773\n",
       "13  0.360215    0.037815\n",
       "14  0.685484    0.355042\n",
       "15  0.260753    0.006303\n",
       "16  0.733871    0.134454\n",
       "17  0.849462    0.147059\n",
       "18  0.432796    0.098739\n",
       "19  0.752688    0.159664\n",
       "20  0.559140    0.025210\n",
       "21  0.543011    0.159664\n",
       "22  0.594086    0.357143\n",
       "23  0.397849    0.176471\n",
       "24  0.349462    0.044118\n",
       "25  0.400538    0.323529\n",
       "26  0.376344    0.134454\n",
       "27  0.303763    0.151261\n",
       "28  0.196237    0.376050\n",
       "29  0.739247    0.392857\n",
       "30  0.634409    0.184874\n",
       "31  0.857527    0.170168\n",
       "32  0.271505    0.716387\n",
       "33  0.854839    0.661765\n",
       "34  1.021505    0.157563\n",
       "35  0.543011    0.184874\n",
       "36  0.715054    0.497899\n",
       "37  0.446237    0.134454\n",
       "38  0.158602    0.231092\n",
       "39  0.637097    0.634454\n",
       "40  0.663978    0.193277\n",
       "41  0.725806    0.128151\n",
       "42  0.338710    0.407563\n",
       "43  0.422043    0.094538\n",
       "44  0.102151   -0.031513\n",
       "45  0.701613    0.464286\n",
       "46  0.422043    0.329832\n",
       "47  0.250000    0.042017\n",
       "48  0.327957    0.628151\n",
       "49  0.879032    0.216387\n",
       "50  0.497312    0.441176\n",
       "51  0.661290    0.567227\n",
       "52  0.680108    0.172269\n",
       "53  0.889785    0.165966"
      ]
     },
     "execution_count": 27,
     "metadata": {},
     "output_type": "execute_result"
    }
   ],
   "source": [
    "X_test_scaled"
   ]
  },
  {
   "cell_type": "code",
   "execution_count": 39,
   "id": "d2efacdb",
   "metadata": {},
   "outputs": [
    {
     "data": {
      "image/png": "[encoded data removed]",
      "text/plain": [
       "<Figure size 864x360 with 2 Axes>"
      ]
     },
     "metadata": {
      "needs_background": "light"
     },
     "output_type": "display_data"
    }
   ],
   "source": [
    "fig, (ax1, ax2) = plt.subplots(ncols=2, figsize=(12, 5))\n",
    "\n",
    "ax1.scatter(X_train['Alcohol'], X_train['Malic acid'], c = y_train)\n",
    "ax1.set_title(\"Before Scaling\")\n",
    "ax2.scatter(X_train_scaled['Alcohol'], X_train_scaled['Malic acid'],c = y_train)\n",
    "ax2.set_title(\"After Scaling\")\n",
    "plt.show()"
   ]
  },
  {
   "cell_type": "code",
   "execution_count": 40,
   "id": "4e2c2dd1",
   "metadata": {},
   "outputs": [
    {
     "data": {
      "image/png": "[encoded data removed]",
      "text/plain": [
       "<Figure size 864x360 with 2 Axes>"
      ]
     },
     "metadata": {
      "needs_background": "light"
     },
     "output_type": "display_data"
    }
   ],
   "source": [
    "fig, (ax1, ax2) = plt.subplots(ncols=2, figsize=(12, 5))\n",
    "\n",
    "# before scaling\n",
    "ax1.set_title('Before Scaling')\n",
    "sns.kdeplot(X_train['Alcohol'], ax=ax1)\n",
    "sns.kdeplot(X_train['Malic acid'], ax=ax1)\n",
    "\n",
    "# after scaling\n",
    "ax2.set_title('After Standard Scaling')\n",
    "sns.kdeplot(X_train_scaled['Alcohol'], ax=ax2)\n",
    "sns.kdeplot(X_train_scaled['Malic acid'], ax=ax2)\n",
    "plt.show()"
   ]
  },
  {
   "cell_type": "code",
   "execution_count": null,
   "id": "b2ee2664",
   "metadata": {},
   "outputs": [],
   "source": []
  }
 ],
 "metadata": {
  "kernelspec": {
   "display_name": "Python 3 (ipykernel)",
   "language": "python",
   "name": "python3"
  },
  "language_info": {
   "codemirror_mode": {
    "name": "ipython",
    "version": 3
   },
   "file_extension": ".py",
   "mimetype": "text/x-python",
   "name": "python",
   "nbconvert_exporter": "python",
   "pygments_lexer": "ipython3",
   "version": "3.9.7"
  }
 },
 "nbformat": 4,
 "nbformat_minor": 5
}
